{
  "nbformat": 4,
  "nbformat_minor": 0,
  "metadata": {
    "colab": {
      "name": "Tarea2.ipynb",
      "provenance": [],
      "collapsed_sections": [],
      "authorship_tag": "ABX9TyOpadMp33gyfE9w7pjgBgmx",
      "include_colab_link": true
    },
    "kernelspec": {
      "name": "python3",
      "display_name": "Python 3"
    }
  },
  "cells": [
    {
      "cell_type": "markdown",
      "metadata": {
        "id": "view-in-github",
        "colab_type": "text"
      },
      "source": [
        "<a href=\"https://colab.research.google.com/github/osvaldo-o/edd_1310_2021/blob/master/Tarea2_1310.ipynb\" target=\"_parent\"><img src=\"https://colab.research.google.com/assets/colab-badge.svg\" alt=\"Open In Colab\"/></a>"
      ]
    },
    {
      "cell_type": "markdown",
      "metadata": {
        "id": "W-i9yrHRhb8-"
      },
      "source": [
        "# Tarea 2\n",
        "Con base al archivo adjunto Datos.txt con programación en Python realizar lo siguiente:\n",
        "\n",
        "1.-leer el archivo, procesarlo y quitar los espacios y sumarlos por renglón (mostrar la suma).\n",
        "\n",
        "2.-Mostrar la suma total de todos los números que contiene el archivo (mostrar la suma)."
      ]
    },
    {
      "cell_type": "code",
      "metadata": {
        "id": "FXd5TeJRLYXX"
      },
      "source": [
        "# Para saber cuantos renglones tiene el archivo \n",
        "arch = open('Datos.txt','rt')\n",
        "renglones = len(arch.readlines())\n",
        "arch.close()"
      ],
      "execution_count": 142,
      "outputs": []
    },
    {
      "cell_type": "code",
      "metadata": {
        "id": "9KciUgjH7fVF",
        "outputId": "466c4a03-b447-40b1-8f30-884d9a3cb053",
        "colab": {
          "base_uri": "https://localhost:8080/",
          "height": 221
        }
      },
      "source": [
        "def convertir_lista(list_num):\n",
        "  for i in range(len(list_num)):\n",
        "    list_num[i] = int(list_num[i])\n",
        "  return list_num\n",
        "  \n",
        "def sumar_lista(list_num):\n",
        "  suma = 0\n",
        "  for i in range(len(list_num)):\n",
        "    suma = suma + list_num[i]\n",
        "  return suma\n",
        "\n",
        "def es_numero(lista):\n",
        "  try:\n",
        "    for item in lista:\n",
        "        int(item)\n",
        "    return True\n",
        "  except ValueError:\n",
        "    return False\n",
        "\n",
        "sumas = []\n",
        "arch = open('Datos.txt','rt')\n",
        "for renglon in range(renglones):\n",
        "  list_num = arch.readline().strip().replace(\" \",\"\").split(',')\n",
        "  if(es_numero(list_num) == True):\n",
        "    list_num = convertir_lista(list_num)\n",
        "    suma = sumar_lista(list_num)\n",
        "    sumas.append(suma)\n",
        "    print(f\"La suma del renglon {renglon+1} con números es: {suma}\")\n",
        "\n",
        "print(f\"\\nLa suma total de todos los números es: {sumarLista(sumas)}\")\n",
        "arch.close()"
      ],
      "execution_count": 144,
      "outputs": [
        {
          "output_type": "stream",
          "text": [
            "La suma del renglon 1 con números es: 406\n",
            "La suma del renglon 3 con números es: 367\n",
            "La suma del renglon 5 con números es: 814\n",
            "La suma del renglon 7 con números es: 418\n",
            "La suma del renglon 9 con números es: 786\n",
            "La suma del renglon 11 con números es: 513\n",
            "La suma del renglon 13 con números es: 745\n",
            "La suma del renglon 15 con números es: 585\n",
            "La suma del renglon 17 con números es: 154\n",
            "La suma del renglon 19 con números es: 220\n",
            "\n",
            "La suma total de todos los números es: 5008\n"
          ],
          "name": "stdout"
        }
      ]
    }
  ]
}