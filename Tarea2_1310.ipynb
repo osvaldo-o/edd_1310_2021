{
  "nbformat": 4,
  "nbformat_minor": 0,
  "metadata": {
    "colab": {
      "name": "Tarea2.ipynb",
      "provenance": [],
      "collapsed_sections": [],
      "authorship_tag": "ABX9TyOnud/A6ipm5M0IhKe/sTvH",
      "include_colab_link": true
    },
    "kernelspec": {
      "name": "python3",
      "display_name": "Python 3"
    }
  },
  "cells": [
    {
      "cell_type": "markdown",
      "metadata": {
        "id": "view-in-github",
        "colab_type": "text"
      },
      "source": [
        "<a href=\"https://colab.research.google.com/github/osvaldo-o/edd_1310_2021/blob/master/Tarea2_1310.ipynb\" target=\"_parent\"><img src=\"https://colab.research.google.com/assets/colab-badge.svg\" alt=\"Open In Colab\"/></a>"
      ]
    },
    {
      "cell_type": "markdown",
      "metadata": {
        "id": "W-i9yrHRhb8-"
      },
      "source": [
        "# Tarea 2\n",
        "Con base al archivo adjunto Datos.txt con programación en Python realizar lo siguiente:\n",
        "\n",
        "1.-leer el archivo, procesarlo y quitar los espacios y sumarlos por renglón (mostrar la suma).\n",
        "\n",
        "2.-Mostrar la suma total de todos los números que contiene el archivo (mostrar la suma)."
      ]
    },
    {
      "cell_type": "code",
      "metadata": {
        "id": "9KciUgjH7fVF",
        "outputId": "d0ce1e36-12e7-4773-d558-08c46850b822",
        "colab": {
          "base_uri": "https://localhost:8080/",
          "height": 221
        }
      },
      "source": [
        "def obtenerLista(list_num):\n",
        "  list_num = list_num.replace(\" \", \"\").strip().split(',')\n",
        "  for i in range(len(list_num)):\n",
        "    list_num[i] = int(list_num[i])\n",
        "  return list_num\n",
        "  \n",
        "def sumarLista(list_num):\n",
        "  suma = 0\n",
        "  for i in range(len(list_num)):\n",
        "    suma = suma + list_num[i]\n",
        "  return suma\n",
        " \n",
        "renglon = 1 \n",
        "sumas = []\n",
        "arch = open('Datos.txt','rt')\n",
        "list_num = arch.readline()\n",
        "while(list_num != 'Instrucciones:\\n' ):\n",
        "  if(list_num.strip() != ''):\n",
        "    list_num = obtenerLista(list_num)\n",
        "    suma = sumarLista(list_num)\n",
        "    sumas.append(suma)\n",
        "    print(f\"La suma del renglon {renglon} con números es: {suma}\")\n",
        "    renglon+=1\n",
        "  list_num = arch.readline()\n",
        "print(f\"\\nLa suma total de todos los números es: {sumarLista(sumas)}\")\n",
        "\n",
        "arch.close()"
      ],
      "execution_count": 70,
      "outputs": [
        {
          "output_type": "stream",
          "text": [
            "La suma del renglon 1 con números es: 406\n",
            "La suma del renglon 2 con números es: 367\n",
            "La suma del renglon 3 con números es: 814\n",
            "La suma del renglon 4 con números es: 418\n",
            "La suma del renglon 5 con números es: 786\n",
            "La suma del renglon 6 con números es: 513\n",
            "La suma del renglon 7 con números es: 745\n",
            "La suma del renglon 8 con números es: 585\n",
            "La suma del renglon 9 con números es: 154\n",
            "La suma del renglon 10 con números es: 220\n",
            "\n",
            "La suma total de todos los números es: 5008\n"
          ],
          "name": "stdout"
        }
      ]
    }
  ]
}