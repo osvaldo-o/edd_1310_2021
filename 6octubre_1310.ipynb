{
  "nbformat": 4,
  "nbformat_minor": 0,
  "metadata": {
    "colab": {
      "name": "6octubre_1310.ipynb",
      "provenance": [],
      "authorship_tag": "ABX9TyMqKR9O7KJxqQOZn97/dJkv",
      "include_colab_link": true
    },
    "kernelspec": {
      "name": "python3",
      "display_name": "Python 3"
    }
  },
  "cells": [
    {
      "cell_type": "markdown",
      "metadata": {
        "id": "view-in-github",
        "colab_type": "text"
      },
      "source": [
        "<a href=\"https://colab.research.google.com/github/osvaldo-o/edd_1310_2021/blob/master/6octubre_1310.ipynb\" target=\"_parent\"><img src=\"https://colab.research.google.com/assets/colab-badge.svg\" alt=\"Open In Colab\"/></a>"
      ]
    },
    {
      "cell_type": "code",
      "metadata": {
        "id": "s7KjWaoRqcJk",
        "outputId": "b681702f-2cfe-4681-886b-ed8478ef6121",
        "colab": {
          "base_uri": "https://localhost:8080/",
          "height": 102
        }
      },
      "source": [
        "# String \n",
        "txt_numeros = \"   1,  2, 3, 4   ,5,  35,  15\"\n",
        "print(txt_numeros)\n",
        "txt_numeros = txt_numeros.lstrip().split(',')\n",
        "print(txt_numeros)\n",
        "\n",
        "for i in range(len(txt_numeros)):\n",
        "  txt_numeros[i] = int(txt_numeros[i].strip())\n",
        "\n",
        "print(txt_numeros)\n",
        "\n",
        "# funcion range\n",
        "print(range(1,10,3))\n",
        "for x in range(0,11,2):\n",
        "  print(x, end=\"-\")"
      ],
      "execution_count": 8,
      "outputs": [
        {
          "output_type": "stream",
          "text": [
            "   1,  2, 3, 4   ,5,  35,  15\n",
            "['1', '  2', ' 3', ' 4   ', '5', '  35', '  15']\n",
            "[1, 2, 3, 4, 5, 35, 15]\n",
            "range(1, 10, 3)\n",
            "0-2-4-6-8-10-"
          ],
          "name": "stdout"
        }
      ]
    },
    {
      "cell_type": "markdown",
      "metadata": {
        "id": "vlWFzewKxw5s"
      },
      "source": [
        "# listas\n",
        "- mutables \n",
        "- declaran con []\n",
        "- selector [int]\n",
        "\n",
        "# tuplas\n",
        "- No mutables\n",
        "- declaran con ()\n",
        "- selectos [int]\n",
        "\n",
        "# diccionarios\n",
        "- son mutables\n",
        "- son conjunto de pares llave: valor\n",
        "- equivalentes a los JSON\n",
        "\n",
        "#C Conjuntos\n",
        "- representación de la teoria de conjuntos\n"
      ]
    },
    {
      "cell_type": "code",
      "metadata": {
        "id": "GsXtgyFIyeuo",
        "outputId": "41e9614d-95de-4c00-b04a-70ef863d371d",
        "colab": {
          "base_uri": "https://localhost:8080/",
          "height": 119
        }
      },
      "source": [
        "# Listas \n",
        "frutas = [\"Pera\", \"Manzana\", \"Fresa\", \"Kiwi\", \"Naranja\"]\n",
        "print(frutas)\n",
        "cosas = [\"cuaderno\", 2, 3.1416, True, False, [\"Rojo\", \"Azul\"]]\n",
        "print(cosas)\n",
        "# agregar listas\n",
        "frutas.append(\"Aguacate\")\n",
        "print(frutas)\n",
        "frutas.insert(2,\"Sandia\")\n",
        "print(frutas)\n",
        "\n",
        "fecha = [\"06\", \"10\", \"2020\"]\n",
        "print(fecha)\n",
        "fecha_str = \"/\".join(fecha)\n",
        "print(fecha_str)"
      ],
      "execution_count": 15,
      "outputs": [
        {
          "output_type": "stream",
          "text": [
            "['Pera', 'Manzana', 'Fresa', 'Kiwi', 'Naranja']\n",
            "['cuaderno', 2, 3.1416, True, False, ['Rojo', 'Azul']]\n",
            "['Pera', 'Manzana', 'Fresa', 'Kiwi', 'Naranja', 'Aguacate']\n",
            "['Pera', 'Manzana', 'Sandia', 'Fresa', 'Kiwi', 'Naranja', 'Aguacate']\n",
            "['06', '10', '2020']\n",
            "06/10/2020\n"
          ],
          "name": "stdout"
        }
      ]
    },
    {
      "cell_type": "code",
      "metadata": {
        "id": "GvWtBis63tUx",
        "outputId": "3c47d23e-1d6d-4bfe-ba65-9ff1d6b2571d",
        "colab": {
          "base_uri": "https://localhost:8080/",
          "height": 170
        }
      },
      "source": [
        "# eliminar cosas\n",
        "cosas = [\"cuaderno\", 2, 3.1416, True, False, [\"Rojo\", \"Azul\"]]\n",
        "print(cosas)\n",
        "cosas.append(\"Libro\")\n",
        "cosas.append(\"Lapiz\")\n",
        "print(cosas)\n",
        "algo = cosas.pop()\n",
        "print(cosas)\n",
        "print(algo)\n",
        "\n",
        "algo = cosas.pop(2)\n",
        "print(cosas)\n",
        "print(algo)\n",
        "cosas.remove(True)\n",
        "print(cosas)\n",
        "\n",
        "# vaciar una lista\n",
        "#cosas.clear()\n",
        "#print(cosas)\n",
        "\n",
        "# ordenar\n",
        "print(frutas)\n",
        "frutas.sort()\n",
        "print(frutas)\n"
      ],
      "execution_count": 23,
      "outputs": [
        {
          "output_type": "stream",
          "text": [
            "['cuaderno', 2, 3.1416, True, False, ['Rojo', 'Azul']]\n",
            "['cuaderno', 2, 3.1416, True, False, ['Rojo', 'Azul'], 'Libro', 'Lapiz']\n",
            "['cuaderno', 2, 3.1416, True, False, ['Rojo', 'Azul'], 'Libro']\n",
            "Lapiz\n",
            "['cuaderno', 2, True, False, ['Rojo', 'Azul'], 'Libro']\n",
            "3.1416\n",
            "['cuaderno', 2, False, ['Rojo', 'Azul'], 'Libro']\n",
            "['Pera', 'Manzana', 'Sandia', 'Fresa', 'Kiwi', 'Naranja', 'Aguacate']\n",
            "['Aguacate', 'Fresa', 'Kiwi', 'Manzana', 'Naranja', 'Pera', 'Sandia']\n"
          ],
          "name": "stdout"
        }
      ]
    },
    {
      "cell_type": "code",
      "metadata": {
        "id": "XTR4ORIB7nkW",
        "outputId": "c1af4083-997c-43d3-e5a7-d7fba51f5481",
        "colab": {
          "base_uri": "https://localhost:8080/",
          "height": 102
        }
      },
      "source": [
        "cosas = [\"cuaderno\", 2, 3.1416, True, False, [\"Rojo\", \"Azul\"]]\n",
        "print(cosas[3:5:1])\n",
        "print(cosas[0][3:5])\n",
        "\n",
        "numeros = [0,1,2,3,4,5,6,7,8,9,10,11,12,13,14,15]\n",
        "print(numeros[8:13])\n",
        "# sustituir\n",
        "numeros[8:13] = [-2,-2]\n",
        "print(numeros)\n",
        "# preguntar por exitencia\n",
        "print(-2 in numeros)"
      ],
      "execution_count": 30,
      "outputs": [
        {
          "output_type": "stream",
          "text": [
            "[True, False]\n",
            "de\n",
            "[8, 9, 10, 11, 12]\n",
            "[0, 1, 2, 3, 4, 5, 6, 7, -2, -2, 13, 14, 15]\n",
            "True\n"
          ],
          "name": "stdout"
        }
      ]
    },
    {
      "cell_type": "markdown",
      "metadata": {
        "id": "zB2rwrK_-lXE"
      },
      "source": [
        "# lista multi dimensión\n",
        "- listas dentro de listas\n"
      ]
    },
    {
      "cell_type": "code",
      "metadata": {
        "id": "LerFr6CF-yBc",
        "outputId": "b7c65313-f53f-4456-d068-8a1599868047",
        "colab": {
          "base_uri": "https://localhost:8080/",
          "height": 153
        }
      },
      "source": [
        "computadoras = [\"HP\", \"Mac Book Pro 17\", \"Mate Book\", \"Lenovo Legion\"]\n",
        "oss = [\"Windows 10\", \"Linux\", \"Android\", \"IOS\"]\n",
        "\n",
        "computo = [computadoras, oss]\n",
        "print(computo[0])\n",
        "print(computo[1])\n",
        "print(computo[0][2][0:5])\n",
        "print(computo[0][3][5::-1])\n",
        "print(computo[0][3][-8::-1]) #cuando contamos desde atrás, ya no contamos con 0\n",
        "dbms = [ [\"Mysql\", \"Open Source\", False], [\"Ms SQL Server\", \"de paga\", True]]\n",
        "computo.append(dbms)\n",
        "print(computo)\n",
        "print(computo[2][0][0])\n",
        "print(computo[2][1][1])"
      ],
      "execution_count": 47,
      "outputs": [
        {
          "output_type": "stream",
          "text": [
            "['HP', 'Mac Book Pro 17', 'Mate Book', 'Lenovo Legion']\n",
            "['Windows 10', 'Linux', 'Android', 'IOS']\n",
            "Mate \n",
            "ovoneL\n",
            "ovoneL\n",
            "[['HP', 'Mac Book Pro 17', 'Mate Book', 'Lenovo Legion'], ['Windows 10', 'Linux', 'Android', 'IOS'], [['Mysql', 'Open Source', False], ['Ms SQL Server', 'de paga', True]]]\n",
            "Mysql\n",
            "de paga\n"
          ],
          "name": "stdout"
        }
      ]
    }
  ]
}