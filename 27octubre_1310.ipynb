{
  "nbformat": 4,
  "nbformat_minor": 0,
  "metadata": {
    "colab": {
      "name": "27octubre_1310.ipynb",
      "provenance": [],
      "collapsed_sections": [],
      "authorship_tag": "ABX9TyN210Od+sPSxRdFXl8JgWjU",
      "include_colab_link": true
    },
    "kernelspec": {
      "name": "python3",
      "display_name": "Python 3"
    }
  },
  "cells": [
    {
      "cell_type": "markdown",
      "metadata": {
        "id": "view-in-github",
        "colab_type": "text"
      },
      "source": [
        "<a href=\"https://colab.research.google.com/github/osvaldo-o/edd_1310_2021/blob/master/27octubre_1310.ipynb\" target=\"_parent\"><img src=\"https://colab.research.google.com/assets/colab-badge.svg\" alt=\"Open In Colab\"/></a>"
      ]
    },
    {
      "cell_type": "code",
      "metadata": {
        "id": "znCVx4A-CqVr",
        "outputId": "6c323cb3-822d-4f7d-ee32-95d57f0b8c1e",
        "colab": {
          "base_uri": "https://localhost:8080/",
          "height": 85
        }
      },
      "source": [
        "class Computadora:\n",
        "    def __init__( self , m , p):\n",
        "        self.__marca = m\n",
        "        self.__procesador = p\n",
        "\n",
        "    def to_string( self ):\n",
        "        return \"Marca:\"+self.__marca+\" Procesador:\"+self.__procesador\n",
        "\n",
        "    def set_marca( self, m):\n",
        "        self.__marca = m\n",
        "    \n",
        "    def get_marca( self ):\n",
        "        return self.__marca\n",
        "    \n",
        "    def set_procesador( self, p):\n",
        "        self.__procesador = p\n",
        "    \n",
        "    def get_procesador( self ):\n",
        "        return self.__procesador\n",
        "\n",
        "mi_pc = Computadora(\"Toshiba\",\"Intel i7\")\n",
        "print(mi_pc.to_string())\n",
        "mi_pc.__marca=\"HP \" #intentando cambiar el valor privado\n",
        "print(mi_pc.to_string())\n",
        "mi_pc.set_marca(\"HP\")\n",
        "print(mi_pc.to_string())\n",
        "print(mi_pc.get_procesador())"
      ],
      "execution_count": 9,
      "outputs": [
        {
          "output_type": "stream",
          "text": [
            "Marca:Toshiba Procesador:Intel i7\n",
            "Marca:Toshiba Procesador:Intel i7\n",
            "Marca:HP Procesador:Intel i7\n",
            "Intel i7\n"
          ],
          "name": "stdout"
        }
      ]
    },
    {
      "cell_type": "markdown",
      "metadata": {
        "id": "VIfGxJLOEf89"
      },
      "source": [
        "# Encapsulamiento pyhton 3\n",
        "## tradicional tipo java\n",
        "- setAtributo( val )\n",
        "- tipo getAtributo ()\n",
        "\n",
        "# estilo python 3\n",
        "## UTILIZANDO DECORADORES\n",
        "- @property\n",
        "- @atributo.setter"
      ]
    },
    {
      "cell_type": "code",
      "metadata": {
        "id": "0KkWnZ6zHdCY",
        "outputId": "4da273fa-3684-453b-a580-b2b8fd5b908f",
        "colab": {
          "base_uri": "https://localhost:8080/",
          "height": 51
        }
      },
      "source": [
        "class Computadora:\n",
        "  def __init__( self, m , p):\n",
        "    self.marca = m \n",
        "    self.procesador = p\n",
        "\n",
        "  @property # declara como atributo privado y funciona como metodo get\n",
        "  def marca( self ):\n",
        "    return self.__marca\n",
        "\n",
        "  @marca.setter\n",
        "  def marca( self , m):\n",
        "    self.__marca = m\n",
        "\n",
        "  @property\n",
        "  def procesador( self ):\n",
        "    return self.__procesador\n",
        "  \n",
        "  @procesador.setter\n",
        "  def procesador( self, p):\n",
        "    self.__procesador = p\n",
        "\n",
        "  def to_string( self ):\n",
        "    return \"marca: \"+self.marca+\" Procesador:\"+ self.procesador\n",
        "\n",
        "mi_pc2 = Computadora(\"Mac Book pro\", \"Intel i7\")\n",
        "print(mi_pc2.to_string())\n",
        "mi_pc2.marca = \"Dell\"\n",
        "print(mi_pc2.to_string())"
      ],
      "execution_count": 14,
      "outputs": [
        {
          "output_type": "stream",
          "text": [
            "marca: Mac Book pro Procesador:Intel i7\n",
            "marca: Dell Procesador:Intel i7\n"
          ],
          "name": "stdout"
        }
      ]
    },
    {
      "cell_type": "code",
      "metadata": {
        "id": "GaJQPT58Q5s2",
        "outputId": "af101c45-ab11-47ec-9f54-aeb03485f909",
        "colab": {
          "base_uri": "https://localhost:8080/",
          "height": 51
        }
      },
      "source": [
        "# herencia, pasando la clase base a la declaracion\n",
        "class ServidorEmpresarial( Computadora):\n",
        "  def __init__( self ):\n",
        "    print(\"Hola servidor\")\n",
        "\n",
        "server = ServidorEmpresarial()\n",
        "server.marca = \"Sun Micro Systems\"\n",
        "server.procesador = \"intel i7\"\n",
        "print(server.to_string())\n"
      ],
      "execution_count": 15,
      "outputs": [
        {
          "output_type": "stream",
          "text": [
            "Hola servidor\n",
            "marca: Sun Micro Systems Procesador:intel i7\n"
          ],
          "name": "stdout"
        }
      ]
    }
  ]
}