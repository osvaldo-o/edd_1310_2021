{
  "nbformat": 4,
  "nbformat_minor": 0,
  "metadata": {
    "colab": {
      "name": "29Septiembre.ipynb",
      "provenance": [],
      "authorship_tag": "ABX9TyNV+K4S5IFO7vj5uALlsKXI",
      "include_colab_link": true
    },
    "kernelspec": {
      "name": "python3",
      "display_name": "Python 3"
    }
  },
  "cells": [
    {
      "cell_type": "markdown",
      "metadata": {
        "id": "view-in-github",
        "colab_type": "text"
      },
      "source": [
        "<a href=\"https://colab.research.google.com/github/osvaldo-o/edd_1310_2021/blob/master/29Septiembre.ipynb\" target=\"_parent\"><img src=\"https://colab.research.google.com/assets/colab-badge.svg\" alt=\"Open In Colab\"/></a>"
      ]
    },
    {
      "cell_type": "code",
      "metadata": {
        "id": "Y_T9_64v_FRr",
        "outputId": "b3e8488b-4d06-4299-c59e-46348bf29a40",
        "colab": {
          "base_uri": "https://localhost:8080/",
          "height": 34
        }
      },
      "source": [
        "edad = 10\n",
        "print(edad)"
      ],
      "execution_count": 18,
      "outputs": [
        {
          "output_type": "stream",
          "text": [
            "10\n"
          ],
          "name": "stdout"
        }
      ]
    },
    {
      "cell_type": "code",
      "metadata": {
        "id": "3WdB_cL0_IoO",
        "outputId": "d93e3e3c-f38c-4aa1-f6fb-2d84ad486650",
        "colab": {
          "base_uri": "https://localhost:8080/",
          "height": 103
        }
      },
      "source": [
        "colores = [\"amarillo\", \"azul\", \"rojo\", \"morado\", \"rosa\"]\n",
        "\n",
        "for i in range(0,5,1):\n",
        "  print(colores[i])"
      ],
      "execution_count": 10,
      "outputs": [
        {
          "output_type": "stream",
          "text": [
            "amarillo\n",
            "azul\n",
            "rojo\n",
            "morado\n",
            "rosa\n"
          ],
          "name": "stdout"
        }
      ]
    },
    {
      "cell_type": "code",
      "metadata": {
        "id": "kLvUc0e7_frn",
        "outputId": "6ce9d513-4b20-412d-b014-7f054473e9bc",
        "colab": {
          "base_uri": "https://localhost:8080/",
          "height": 103
        }
      },
      "source": [
        "for color in colores:\n",
        "  print(color)"
      ],
      "execution_count": 11,
      "outputs": [
        {
          "output_type": "stream",
          "text": [
            "amarillo\n",
            "azul\n",
            "rojo\n",
            "morado\n",
            "rosa\n"
          ],
          "name": "stdout"
        }
      ]
    },
    {
      "cell_type": "code",
      "metadata": {
        "id": "BN3YXOcW_mdC",
        "outputId": "a5d127b4-1d32-46ab-e867-f4e4e5c1a3a7",
        "colab": {
          "base_uri": "https://localhost:8080/",
          "height": 34
        }
      },
      "source": [
        "print(colores[3][2:4])"
      ],
      "execution_count": 17,
      "outputs": [
        {
          "output_type": "stream",
          "text": [
            "ra\n"
          ],
          "name": "stdout"
        }
      ]
    },
    {
      "cell_type": "code",
      "metadata": {
        "id": "0dj5rFF3Ck93",
        "outputId": "8307cb7b-bccc-4355-88cf-38a9ffe4fc6c",
        "colab": {
          "base_uri": "https://localhost:8080/",
          "height": 51
        }
      },
      "source": [
        "nombre = \"Alberto\"\n",
        "print(nombre[0])\n",
        "print(nombre[0:3:1])"
      ],
      "execution_count": 19,
      "outputs": [
        {
          "output_type": "stream",
          "text": [
            "A\n",
            "Alb\n"
          ],
          "name": "stdout"
        }
      ]
    },
    {
      "cell_type": "code",
      "metadata": {
        "id": "8bPTDC85DAvR",
        "outputId": "c3071fba-1ffa-442d-ff9e-5344264d80bf",
        "colab": {
          "base_uri": "https://localhost:8080/",
          "height": 138
        }
      },
      "source": [
        "\n",
        "for j in range(0,len(nombre),1):\n",
        "  print(nombre[j])"
      ],
      "execution_count": 21,
      "outputs": [
        {
          "output_type": "stream",
          "text": [
            "A\n",
            "l\n",
            "b\n",
            "e\n",
            "r\n",
            "t\n",
            "o\n"
          ],
          "name": "stdout"
        }
      ]
    },
    {
      "cell_type": "code",
      "metadata": {
        "id": "7X16gYbGsrZn",
        "outputId": "17d93e7a-d015-4ce8-a850-79240e3990f6",
        "colab": {
          "base_uri": "https://localhost:8080/",
          "height": 138
        }
      },
      "source": [
        "\n",
        "for letra in nombre:\n",
        "  print(letra)"
      ],
      "execution_count": 20,
      "outputs": [
        {
          "output_type": "stream",
          "text": [
            "A\n",
            "l\n",
            "b\n",
            "e\n",
            "r\n",
            "t\n",
            "o\n"
          ],
          "name": "stdout"
        }
      ]
    },
    {
      "cell_type": "markdown",
      "metadata": {
        "id": "2N08rUroAHpl"
      },
      "source": [
        "![Img](https://upload.wikimedia.org/wikipedia/commons/e/e4/Cuesta_del_obispo_01.jpg)\n",
        "\n",
        "#Texto\n",
        "\n",
        "**negritas**"
      ]
    },
    {
      "cell_type": "code",
      "metadata": {
        "id": "Hkh7NEolApuG"
      },
      "source": [
        ""
      ],
      "execution_count": null,
      "outputs": []
    }
  ]
}