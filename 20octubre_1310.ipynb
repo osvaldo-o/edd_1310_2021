{
  "nbformat": 4,
  "nbformat_minor": 0,
  "metadata": {
    "colab": {
      "name": "20octubre_1310.ipynb",
      "provenance": [],
      "collapsed_sections": [],
      "authorship_tag": "ABX9TyOtthiYMHKrsiYeTV+mMCWP",
      "include_colab_link": true
    },
    "kernelspec": {
      "name": "python3",
      "display_name": "Python 3"
    }
  },
  "cells": [
    {
      "cell_type": "markdown",
      "metadata": {
        "id": "view-in-github",
        "colab_type": "text"
      },
      "source": [
        "<a href=\"https://colab.research.google.com/github/osvaldo-o/edd_1310_2021/blob/master/20octubre_1310.ipynb\" target=\"_parent\"><img src=\"https://colab.research.google.com/assets/colab-badge.svg\" alt=\"Open In Colab\"/></a>"
      ]
    },
    {
      "cell_type": "code",
      "metadata": {
        "id": "WvvLXQDCwDXu",
        "outputId": "13a437ec-98db-4b5a-e819-39d263db4bfd",
        "colab": {
          "base_uri": "https://localhost:8080/",
          "height": 289
        }
      },
      "source": [
        "arch = open('datos.txt', 'rt')\n",
        "for linea in arch.readlines():\n",
        "  for trunc in linea.split(','):\n",
        "    print(int(trunc.strip()))"
      ],
      "execution_count": null,
      "outputs": [
        {
          "output_type": "stream",
          "text": [
            "12\n",
            "293\n",
            "23\n",
            "10\n",
            "99\n",
            "20\n",
            "74\n",
            "202\n",
            "1\n",
            "2\n",
            "3\n",
            "203\n",
            "394\n",
            "284\n",
            "736\n",
            "12\n"
          ],
          "name": "stdout"
        }
      ]
    },
    {
      "cell_type": "code",
      "metadata": {
        "id": "GqqF9MVt3wSE",
        "outputId": "7b27babf-3ea5-457b-ca5c-ec14b34b3b0b",
        "colab": {
          "base_uri": "https://localhost:8080/",
          "height": 238
        }
      },
      "source": [
        "r = range(0,10,2)\n",
        "for i in r:\n",
        "  print (i)\n",
        "\n",
        "colores = ['rojo', 'azul', 'rosa', 'morado']\n",
        "for ind in range(0,4):\n",
        "  print(colores[ind])\n",
        "\n",
        "#iterables\n",
        "for col in colores:\n",
        "  print(col)"
      ],
      "execution_count": 7,
      "outputs": [
        {
          "output_type": "stream",
          "text": [
            "0\n",
            "2\n",
            "4\n",
            "6\n",
            "8\n",
            "rojo\n",
            "azul\n",
            "rosa\n",
            "morado\n",
            "rojo\n",
            "azul\n",
            "rosa\n",
            "morado\n"
          ],
          "name": "stdout"
        }
      ]
    },
    {
      "cell_type": "markdown",
      "metadata": {
        "id": "ZCm8Bi8x8ALY"
      },
      "source": [
        "# Generadores\n",
        "[valor for x in range()]"
      ]
    },
    {
      "cell_type": "code",
      "metadata": {
        "id": "fcrqIIdG8DUl",
        "outputId": "d00a32f5-1a96-4836-cfa1-a66e62a84124",
        "colab": {
          "base_uri": "https://localhost:8080/",
          "height": 51
        }
      },
      "source": [
        "lista = [x for x in range(10)]\n",
        "print(lista)\n",
        "\n",
        "[numero for numero in range(0,11) if numero % 2 == 0 ]\n",
        "\n",
        "[[0 for x in range(3)] for z in range(3)]"
      ],
      "execution_count": 12,
      "outputs": [
        {
          "output_type": "stream",
          "text": [
            "[0, 1, 2, 3, 4, 5, 6, 7, 8, 9]\n"
          ],
          "name": "stdout"
        },
        {
          "output_type": "execute_result",
          "data": {
            "text/plain": [
              "[[0, 0, 0], [0, 0, 0], [0, 0, 0]]"
            ]
          },
          "metadata": {
            "tags": []
          },
          "execution_count": 12
        }
      ]
    },
    {
      "cell_type": "markdown",
      "metadata": {
        "id": "5vTl-1zk_JDM"
      },
      "source": [
        "# POO python\n",
        "- clase\n",
        "- creacion de objetos \n",
        "- constructores\n",
        "- encapsulamiento\n",
        "- metodos\n",
        "- atributos\n",
        "- herencia"
      ]
    },
    {
      "cell_type": "code",
      "metadata": {
        "id": "WOGUJ2pm_fsE",
        "outputId": "a955d3a1-6956-4f6f-f9c8-3e0cabc0ded4",
        "colab": {
          "base_uri": "https://localhost:8080/",
          "height": 51
        }
      },
      "source": [
        "# Clases\n",
        "class Computadora:\n",
        "  def __init__(self, m , p):\n",
        "    self.__marca = m\n",
        "    self.__procesador = p\n",
        "\n",
        "  def to_string(self):\n",
        "    return f\"Marca: {self.__marca}, Procesador: {self.__procesador}\"\n",
        "\n",
        "mi_pc = Computadora(\"HP\", \"Intel i7\")\n",
        "print(type(mi_pc))\n",
        "print(mi_pc.to_string())"
      ],
      "execution_count": 24,
      "outputs": [
        {
          "output_type": "stream",
          "text": [
            "<class '__main__.Computadora'>\n",
            "Marca: HP, Procesador: Intel i7\n"
          ],
          "name": "stdout"
        }
      ]
    }
  ]
}