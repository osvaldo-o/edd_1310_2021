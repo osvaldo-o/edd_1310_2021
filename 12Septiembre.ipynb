{
  "nbformat": 4,
  "nbformat_minor": 0,
  "metadata": {
    "colab": {
      "name": "12Septiembre.ipynb",
      "provenance": [],
      "authorship_tag": "ABX9TyPXpVbgmkOjOnnvJb5sSdvX",
      "include_colab_link": true
    },
    "kernelspec": {
      "name": "python3",
      "display_name": "Python 3"
    }
  },
  "cells": [
    {
      "cell_type": "markdown",
      "metadata": {
        "id": "view-in-github",
        "colab_type": "text"
      },
      "source": [
        "<a href=\"https://colab.research.google.com/github/osvaldo-o/edd_1310_2021/blob/master/12Septiembre.ipynb\" target=\"_parent\"><img src=\"https://colab.research.google.com/assets/colab-badge.svg\" alt=\"Open In Colab\"/></a>"
      ]
    },
    {
      "cell_type": "code",
      "metadata": {
        "id": "Y_T9_64v_FRr"
      },
      "source": [
        ""
      ],
      "execution_count": null,
      "outputs": []
    },
    {
      "cell_type": "code",
      "metadata": {
        "id": "3WdB_cL0_IoO",
        "outputId": "d93e3e3c-f38c-4aa1-f6fb-2d84ad486650",
        "colab": {
          "base_uri": "https://localhost:8080/",
          "height": 103
        }
      },
      "source": [
        "colores = [\"amarillo\", \"azul\", \"rojo\", \"morado\", \"rosa\"]\n",
        "\n",
        "for i in range(0,5,1):\n",
        "  print(colores[i])"
      ],
      "execution_count": 10,
      "outputs": [
        {
          "output_type": "stream",
          "text": [
            "amarillo\n",
            "azul\n",
            "rojo\n",
            "morado\n",
            "rosa\n"
          ],
          "name": "stdout"
        }
      ]
    },
    {
      "cell_type": "code",
      "metadata": {
        "id": "kLvUc0e7_frn",
        "outputId": "6ce9d513-4b20-412d-b014-7f054473e9bc",
        "colab": {
          "base_uri": "https://localhost:8080/",
          "height": 103
        }
      },
      "source": [
        "for color in colores:\n",
        "  print(color)"
      ],
      "execution_count": 11,
      "outputs": [
        {
          "output_type": "stream",
          "text": [
            "amarillo\n",
            "azul\n",
            "rojo\n",
            "morado\n",
            "rosa\n"
          ],
          "name": "stdout"
        }
      ]
    },
    {
      "cell_type": "code",
      "metadata": {
        "id": "BN3YXOcW_mdC",
        "outputId": "a5d127b4-1d32-46ab-e867-f4e4e5c1a3a7",
        "colab": {
          "base_uri": "https://localhost:8080/",
          "height": 34
        }
      },
      "source": [
        "print(colores[3][2:4])"
      ],
      "execution_count": 17,
      "outputs": [
        {
          "output_type": "stream",
          "text": [
            "ra\n"
          ],
          "name": "stdout"
        }
      ]
    },
    {
      "cell_type": "code",
      "metadata": {
        "id": "7X16gYbGsrZn",
        "outputId": "9d517a9f-aa29-4979-ee48-baa3e58c701d",
        "colab": {
          "base_uri": "https://localhost:8080/",
          "height": 138
        }
      },
      "source": [
        "nombre = \"Alberto\"\n",
        "for letra in nombre:\n",
        "  print(letra)"
      ],
      "execution_count": 2,
      "outputs": [
        {
          "output_type": "stream",
          "text": [
            "A\n",
            "l\n",
            "b\n",
            "e\n",
            "r\n",
            "t\n",
            "o\n"
          ],
          "name": "stdout"
        }
      ]
    },
    {
      "cell_type": "markdown",
      "metadata": {
        "id": "2N08rUroAHpl"
      },
      "source": [
        "![Img](https://upload.wikimedia.org/wikipedia/commons/e/e4/Cuesta_del_obispo_01.jpg)\n",
        "\n",
        "#Texto"
      ]
    },
    {
      "cell_type": "code",
      "metadata": {
        "id": "Hkh7NEolApuG"
      },
      "source": [
        ""
      ],
      "execution_count": null,
      "outputs": []
    }
  ]
}