{
  "nbformat": 4,
  "nbformat_minor": 0,
  "metadata": {
    "kernelspec": {
      "display_name": "Python 3",
      "language": "python",
      "name": "python3"
    },
    "language_info": {
      "codemirror_mode": {
        "name": "ipython",
        "version": 3
      },
      "file_extension": ".py",
      "mimetype": "text/x-python",
      "name": "python",
      "nbconvert_exporter": "python",
      "pygments_lexer": "ipython3",
      "version": "3.8.3"
    },
    "colab": {
      "name": "Tarea 3_1310.ipynb",
      "provenance": [],
      "include_colab_link": true
    }
  },
  "cells": [
    {
      "cell_type": "markdown",
      "metadata": {
        "id": "view-in-github",
        "colab_type": "text"
      },
      "source": [
        "<a href=\"https://colab.research.google.com/github/osvaldo-o/edd_1310_2021/blob/master/Tarea_3_1310.ipynb\" target=\"_parent\"><img src=\"https://colab.research.google.com/assets/colab-badge.svg\" alt=\"Open In Colab\"/></a>"
      ]
    },
    {
      "cell_type": "code",
      "metadata": {
        "id": "EIERpMjv1wy_"
      },
      "source": [
        "class Persona:\n",
        "    def __init__(self, nombre, edad, estatura):\n",
        "        self.__nombre = nombre\n",
        "        self.__edad = edad\n",
        "        self.__estatura = estatura\n",
        "        \n",
        "    def dormir(self):\n",
        "        return f\"zZzZzZ ({self.__nombre})\"\n",
        "    \n",
        "    def comer(self ,comida):\n",
        "        return f\"{self.__nombre} esta comiendo {comida}\"\n",
        "\n",
        "class Celular:\n",
        "    def __init__(self, marca, modelo, memoria):\n",
        "        self.__marca = marca\n",
        "        self.__modelo = modelo\n",
        "        self.__memoria = memoria\n",
        "        \n",
        "    def llamar(self ,numero):\n",
        "        return f\"Marcando a {numero}\"\n",
        "    \n",
        "    def poner_alarma(self, hora, dia_semana):\n",
        "        return \"Save alarma\"       "
      ],
      "execution_count": 8,
      "outputs": []
    }
  ]
}