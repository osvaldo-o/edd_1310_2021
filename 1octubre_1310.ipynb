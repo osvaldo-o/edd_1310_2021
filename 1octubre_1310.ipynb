{
  "nbformat": 4,
  "nbformat_minor": 0,
  "metadata": {
    "colab": {
      "name": "1octubre_1310.ipynb",
      "provenance": [],
      "authorship_tag": "ABX9TyMcHiV1L3wbJSpkn53SeBiI",
      "include_colab_link": true
    },
    "kernelspec": {
      "name": "python3",
      "display_name": "Python 3"
    }
  },
  "cells": [
    {
      "cell_type": "markdown",
      "metadata": {
        "id": "view-in-github",
        "colab_type": "text"
      },
      "source": [
        "<a href=\"https://colab.research.google.com/github/osvaldo-o/edd_1310_2021/blob/master/1octubre_1310.ipynb\" target=\"_parent\"><img src=\"https://colab.research.google.com/assets/colab-badge.svg\" alt=\"Open In Colab\"/></a>"
      ]
    },
    {
      "cell_type": "markdown",
      "metadata": {
        "id": "uMC9CF1s74X3"
      },
      "source": [
        "### Intro Python\n",
        "## variables\n",
        "# tipo dinamico"
      ]
    },
    {
      "cell_type": "code",
      "metadata": {
        "id": "kKCVvi-J7O2k",
        "outputId": "df9905f1-4ad1-4c07-ac8a-baaae0a9a861",
        "colab": {
          "base_uri": "https://localhost:8080/",
          "height": 119
        }
      },
      "source": [
        "escuela = \"Fes Aragon\"\n",
        "print(escuela)\n",
        "print(\"-----------\")\n",
        "edad = 13\n",
        "estatura = 1.72\n",
        "fumador = False\n",
        "frases = \"\"\" \n",
        "esta es una\n",
        "frase\n",
        "\"\"\"\n",
        "print(frases)\n",
        "nombre = 'Jose'\n",
        "nombre_apellido = \"Jose sosa\""
      ],
      "execution_count": 5,
      "outputs": [
        {
          "output_type": "stream",
          "text": [
            "Fes Aragon\n",
            "-----------\n",
            " \n",
            "esta es una\n",
            "frase\n",
            "\n"
          ],
          "name": "stdout"
        }
      ]
    },
    {
      "cell_type": "markdown",
      "metadata": {
        "id": "sXO4MSlX-lCe"
      },
      "source": [
        "# Print \n",
        "# con comas,\n",
        "# con signo +\n",
        "# con format()\n"
      ]
    },
    {
      "cell_type": "code",
      "metadata": {
        "id": "47snZpXW-oWq",
        "outputId": "25f3b787-b82a-4c12-90e6-8685876e50ba",
        "colab": {
          "base_uri": "https://localhost:8080/",
          "height": 136
        }
      },
      "source": [
        "print(nombre, edad)\n",
        "# con + concatena\n",
        "print(nombre + str(edad))\n",
        "print(nombre+nombre_apellido)\n",
        "# con formato ->\n",
        "print(\"Su nombre es\",nombre,\"y su edad es de\",edad,\"años\")\n",
        "print(\"Su nombre es {0} y su edad es de {1} años\".format(nombre, edad))\n",
        "print(\"Su nombre es {1} y su edad es de {0} años\".format(nombre, edad))\n",
        "# con formato con el operador f\"\n",
        "print(f\"Su nombre es {nombre} y su edad es de {edad} años\")"
      ],
      "execution_count": 11,
      "outputs": [
        {
          "output_type": "stream",
          "text": [
            "Jose 13\n",
            "Jose13\n",
            "JoseJose sosa\n",
            "Su nombre es Jose y su edad es de 13 años\n",
            "Su nombre es Jose y su edad es de 13 años\n",
            "Su nombre es 13 y su edad es de Jose años\n",
            "Su nombre es Jose y su edad es de 13 años\n"
          ],
          "name": "stdout"
        }
      ]
    },
    {
      "cell_type": "markdown",
      "metadata": {
        "id": "rOI7_WXLC972"
      },
      "source": [
        "# Caracter de escape\n",
        "/n salto de linea\n",
        "/t tabulador\n",
        "/a beep\n",
        "/\" imprimir comilla doble\n",
        "/' imprimir comilla simple"
      ]
    },
    {
      "cell_type": "code",
      "metadata": {
        "id": "akiLk0MaDwmZ",
        "outputId": "172119bb-0377-4440-f33b-710d254570a6",
        "colab": {
          "base_uri": "https://localhost:8080/",
          "height": 51
        }
      },
      "source": [
        "print(f\"\\tMi nombre es\\n\\t\\t {nombre}\")"
      ],
      "execution_count": 12,
      "outputs": [
        {
          "output_type": "stream",
          "text": [
            "\tMi nombre es\n",
            "\t\t Jose\n"
          ],
          "name": "stdout"
        }
      ]
    },
    {
      "cell_type": "markdown",
      "metadata": {
        "id": "d9GHSx1kEPyR"
      },
      "source": [
        "# Ayuda de tipos de datos en python\n",
        "dir() help()"
      ]
    },
    {
      "cell_type": "code",
      "metadata": {
        "id": "XAo5QccQEc6X"
      },
      "source": [
        "# str, int,  float, bool, list, dict, set\n",
        "help(str)"
      ],
      "execution_count": null,
      "outputs": []
    },
    {
      "cell_type": "code",
      "metadata": {
        "id": "MPNvXKu2FSFn",
        "outputId": "a308c005-1e5e-472e-c45d-e17fb5a90701",
        "colab": {
          "base_uri": "https://localhost:8080/",
          "height": 51
        }
      },
      "source": [
        "print(nombre_apellido.capitalize())\n",
        "print(nombre_apellido.upper(), end=\"---\")\n",
        "print(nombre_apellido.title())"
      ],
      "execution_count": 17,
      "outputs": [
        {
          "output_type": "stream",
          "text": [
            "Jose sosa\n",
            "JOSE SOSA---Jose Sosa\n"
          ],
          "name": "stdout"
        }
      ]
    },
    {
      "cell_type": "code",
      "metadata": {
        "id": "gqHEr6ZdGqsN"
      },
      "source": [
        "help(print)"
      ],
      "execution_count": null,
      "outputs": []
    },
    {
      "cell_type": "markdown",
      "metadata": {
        "id": "j8gltTAfHiCa"
      },
      "source": [
        "# Clase String\n",
        "Es manejada como un arreglo o lista "
      ]
    },
    {
      "cell_type": "code",
      "metadata": {
        "id": "p1T8QNJ-Hs_p",
        "outputId": "26198867-6ab8-44a5-9e51-85383a967417",
        "colab": {
          "base_uri": "https://localhost:8080/",
          "height": 34
        }
      },
      "source": [
        "telefono = \"Huawei mate 30 pro\"\n",
        "print(telefono[5])\n"
      ],
      "execution_count": 18,
      "outputs": [
        {
          "output_type": "stream",
          "text": [
            "i\n"
          ],
          "name": "stdout"
        }
      ]
    },
    {
      "cell_type": "markdown",
      "metadata": {
        "id": "xNLnbbznIzlS"
      },
      "source": [
        "#Slicing \n",
        "[int:stop:incremento]"
      ]
    },
    {
      "cell_type": "code",
      "metadata": {
        "id": "aYWnlV65I_1p",
        "outputId": "5e74a229-41d7-43bc-a903-77363fd7b870",
        "colab": {
          "base_uri": "https://localhost:8080/",
          "height": 102
        }
      },
      "source": [
        "print(telefono[7:11:1])\n",
        "# el inicio y el incremento son opcionales\n",
        "print(telefono[:11:])\n",
        "# el valor por defecto de stop es len\n",
        "print(telefono[::])\n",
        "# incremento negativo\n",
        "print(telefono[::-1])\n",
        "#\n",
        "print(telefono[-3::1])"
      ],
      "execution_count": 22,
      "outputs": [
        {
          "output_type": "stream",
          "text": [
            "mate\n",
            "Huawei mate\n",
            "Huawei mate 30 pro\n",
            "orp 03 etam iewauH\n",
            "pro\n"
          ],
          "name": "stdout"
        }
      ]
    },
    {
      "cell_type": "markdown",
      "metadata": {
        "id": "Go46JpbuNkYd"
      },
      "source": [
        "# metodos de String (str)"
      ]
    },
    {
      "cell_type": "code",
      "metadata": {
        "id": "PZdNgADQNpoz",
        "outputId": "475484d8-fb63-4ba4-f23e-3eb8294d9821",
        "colab": {
          "base_uri": "https://localhost:8080/",
          "height": 136
        }
      },
      "source": [
        "facultad = \"   facultad de estudios superiores aragon   \"\n",
        "print(facultad.count(\"u\")) #cuenta el numero de elementos en la cadena\n",
        "print(facultad.find(\"s\"))\n",
        "print(facultad.strip())\n",
        "print(len(facultad))\n",
        "print(facultad.split(\"t\"))\n",
        "print(\"------------\")\n",
        "print(facultad.strip().split(\" \"))"
      ],
      "execution_count": 33,
      "outputs": [
        {
          "output_type": "stream",
          "text": [
            "3\n",
            "16\n",
            "facultad de estudios superiores aragon\n",
            "44\n",
            "['   facul', 'ad de es', 'udios superiores aragon   ']\n",
            "------------\n",
            "['facultad', 'de', 'estudios', 'superiores', 'aragon']\n"
          ],
          "name": "stdout"
        }
      ]
    },
    {
      "cell_type": "code",
      "metadata": {
        "id": "hS7CSfWiSzt4",
        "outputId": "eba4d57f-bcd3-4578-d184-a2e6aefe3bf9",
        "colab": {
          "base_uri": "https://localhost:8080/",
          "height": 85
        }
      },
      "source": [
        "# copiar listas\n",
        "colores = [\"rojo\", \"verde\"]\n",
        "otra = colores.copy()\n",
        "print(colores)\n",
        "print(otra)\n",
        "otra.append(\"rosa\")\n",
        "print(colores)\n",
        "print(otra)"
      ],
      "execution_count": 35,
      "outputs": [
        {
          "output_type": "stream",
          "text": [
            "['rojo', 'verde']\n",
            "['rojo', 'verde']\n",
            "['rojo', 'verde']\n",
            "['rojo', 'verde', 'rosa']\n"
          ],
          "name": "stdout"
        }
      ]
    }
  ]
}