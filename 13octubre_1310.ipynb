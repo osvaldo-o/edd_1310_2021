{
  "nbformat": 4,
  "nbformat_minor": 0,
  "metadata": {
    "colab": {
      "name": "13octubre_1310.ipynb",
      "provenance": [],
      "authorship_tag": "ABX9TyPP+YS/7F4R8Y/9vRTqvKKr",
      "include_colab_link": true
    },
    "kernelspec": {
      "name": "python3",
      "display_name": "Python 3"
    }
  },
  "cells": [
    {
      "cell_type": "markdown",
      "metadata": {
        "id": "view-in-github",
        "colab_type": "text"
      },
      "source": [
        "<a href=\"https://colab.research.google.com/github/osvaldo-o/edd_1310_2021/blob/master/13octubre_1310.ipynb\" target=\"_parent\"><img src=\"https://colab.research.google.com/assets/colab-badge.svg\" alt=\"Open In Colab\"/></a>"
      ]
    },
    {
      "cell_type": "code",
      "metadata": {
        "id": "gaxbsn72sSRm",
        "outputId": "d55685a5-4344-4685-a3d2-26f584b9fea4",
        "colab": {
          "base_uri": "https://localhost:8080/",
          "height": 88
        }
      },
      "source": [
        "alumno = { \n",
        "          \"num_cta\" : 303030303 ,\n",
        "          \"carrera\" : \"ICO\",\n",
        "          \"promedio\" : 9.8,\n",
        "          \"materias\" :[\"EDD\",\"CyP\",\"Calidad\",\"Emprendimiento\"],\n",
        "          \"direccion\" : { \n",
        "                            \"calle\":\"rancho seco\",\n",
        "                            \"numero\" : 23 ,\n",
        "                            \"delegacion\" : \"Neza\",\n",
        "                            \"estado\" : {\n",
        "                                        \"id\" : 15 ,\n",
        "                                        \"nombre\" : \"Estado de Máxico\" ,\n",
        "                                        \"nombre_corto\" : \"EdoMex\"\n",
        "                                        } ,\n",
        "                            \"CP\":57170\n",
        "\n",
        "                        } \n",
        "          }\n",
        "alumno['carrera'] = \"Ingenieria en Computación\"\n",
        "print(alumno['carrera'])\n",
        "alumno['nombre_completo'] = {'primer':\"Juan\", #agregar un nuevo llave - valor\n",
        "                             'segundo':\"Pedro\",\n",
        "                             'materia':\"Gomez\",\n",
        "                             'paterno':\"Perez\"}\n",
        "alumno['semestre'] = 3 #agregar un nuevo llave - valor\n",
        "print(f\"{alumno['nombre_completo']['primer']} {alumno['nombre_completo']['segundo']}\")\n",
        "print(alumno)"
      ],
      "execution_count": 3,
      "outputs": [
        {
          "output_type": "stream",
          "text": [
            "Ingenieria en Computación\n",
            "Juan Pedro\n",
            "{'num_cta': 303030303, 'carrera': 'Ingenieria en Computación', 'promedio': 9.8, 'materias': ['EDD', 'CyP', 'Calidad', 'Emprendimiento'], 'direccion': {'calle': 'rancho seco', 'numero': 23, 'delegacion': 'Neza', 'estado': {'id': 15, 'nombre': 'Estado de Máxico', 'nombre_corto': 'EdoMex'}, 'CP': 57170}, 'nombre_completo': {'primer': 'Juan', 'segundo': 'Pedro', 'materia': 'Gomez', 'paterno': 'Perez'}, 'semestre': 3}\n"
          ],
          "name": "stdout"
        }
      ]
    },
    {
      "cell_type": "code",
      "metadata": {
        "id": "PbKgT7y1yeYu",
        "outputId": "96c34a28-1aeb-4bbe-cafd-47e359e6d75a",
        "colab": {
          "base_uri": "https://localhost:8080/",
          "height": 462
        }
      },
      "source": [
        "# key(), values() y items()\n",
        "\n",
        "keys = alumno.keys()\n",
        "print(keys)\n",
        "for key in keys:\n",
        "  print(key.upper())\n",
        "print(\"-----------------------\")\n",
        "\n",
        "valores = alumno.values()\n",
        "for val in valores:\n",
        "  print(val)\n",
        "print(\"-----------------------\")\n",
        "\n",
        "pares = alumno.items() # regresa una lista de tuplas con llave valor\n",
        "print(pares)\n",
        "for elem in pares:\n",
        "  print(f\"El campo {elem[0]} tiene el valor {elem[1]}\")"
      ],
      "execution_count": 12,
      "outputs": [
        {
          "output_type": "stream",
          "text": [
            "dict_keys(['num_cta', 'carrera', 'promedio', 'materias', 'direccion', 'nombre_completo', 'semestre'])\n",
            "NUM_CTA\n",
            "CARRERA\n",
            "PROMEDIO\n",
            "MATERIAS\n",
            "DIRECCION\n",
            "NOMBRE_COMPLETO\n",
            "SEMESTRE\n",
            "-----------------------\n",
            "303030303\n",
            "Ingenieria en Computación\n",
            "9.8\n",
            "['EDD', 'CyP', 'Calidad', 'Emprendimiento']\n",
            "{'calle': 'rancho seco', 'numero': 23, 'delegacion': 'Neza', 'estado': {'id': 15, 'nombre': 'Estado de Máxico', 'nombre_corto': 'EdoMex'}, 'CP': 57170}\n",
            "{'primer': 'Juan', 'segundo': 'Pedro', 'materia': 'Gomez', 'paterno': 'Perez'}\n",
            "3\n",
            "-----------------------\n",
            "dict_items([('num_cta', 303030303), ('carrera', 'Ingenieria en Computación'), ('promedio', 9.8), ('materias', ['EDD', 'CyP', 'Calidad', 'Emprendimiento']), ('direccion', {'calle': 'rancho seco', 'numero': 23, 'delegacion': 'Neza', 'estado': {'id': 15, 'nombre': 'Estado de Máxico', 'nombre_corto': 'EdoMex'}, 'CP': 57170}), ('nombre_completo', {'primer': 'Juan', 'segundo': 'Pedro', 'materia': 'Gomez', 'paterno': 'Perez'}), ('semestre', 3)])\n",
            "El campo num_cta tiene el valor 303030303\n",
            "El campo carrera tiene el valor Ingenieria en Computación\n",
            "El campo promedio tiene el valor 9.8\n",
            "El campo materias tiene el valor ['EDD', 'CyP', 'Calidad', 'Emprendimiento']\n",
            "El campo direccion tiene el valor {'calle': 'rancho seco', 'numero': 23, 'delegacion': 'Neza', 'estado': {'id': 15, 'nombre': 'Estado de Máxico', 'nombre_corto': 'EdoMex'}, 'CP': 57170}\n",
            "El campo nombre_completo tiene el valor {'primer': 'Juan', 'segundo': 'Pedro', 'materia': 'Gomez', 'paterno': 'Perez'}\n",
            "El campo semestre tiene el valor 3\n"
          ],
          "name": "stdout"
        }
      ]
    },
    {
      "cell_type": "code",
      "metadata": {
        "id": "ixzUR_Xs08v1",
        "outputId": "e4fc2ec8-90b2-4d0a-cefb-aaa3ff464808",
        "colab": {
          "base_uri": "https://localhost:8080/",
          "height": 54
        }
      },
      "source": [
        "computadora = {\"procesador\": \"intel i7\",\n",
        "               \"ram\":\"Kingston 128GB\",\n",
        "               }\n",
        "otro = {\"monitor\":\"LG 49\", \"hd\":\"Toshiba\"}\n",
        "computadora.update(otro)\n",
        "print(computadora)"
      ],
      "execution_count": 13,
      "outputs": [
        {
          "output_type": "stream",
          "text": [
            "{'procesador': 'intel i7', 'ram': 'Kingston 128GB', 'monitor': 'LG 49', 'hd': 'Toshiba'}\n"
          ],
          "name": "stdout"
        }
      ]
    },
    {
      "cell_type": "markdown",
      "metadata": {
        "id": "4Rupz9gs6TQn"
      },
      "source": [
        "# Funciones\n"
      ]
    },
    {
      "cell_type": "code",
      "metadata": {
        "id": "uXmT7P-R39a2",
        "outputId": "6680f375-ef0a-4433-b7a5-d4491b9d9362",
        "colab": {
          "base_uri": "https://localhost:8080/",
          "height": 119
        }
      },
      "source": [
        "def sumar(x, y):\n",
        "  return x+y\n",
        "\n",
        "def saludar(nombre):\n",
        "  print(f\"Hola {nombre}, ¿Como estas?\")\n",
        "  return None\n",
        "\n",
        "def multiplicar(x, y):\n",
        "  if x != None and y != None:\n",
        "      return x*y\n",
        "  else:\n",
        "      return \"Error\" \n",
        "\n",
        "def operacion(a, b, c):\n",
        "  return a + (b/c)\n",
        "\n",
        "print(sumar(10, 5))\n",
        "x = sumar(5, 5)\n",
        "print(x)\n",
        "saludar(\"Osvaldo\")\n",
        "print(multiplicar(None, 2))\n",
        "print(operacion(2,9,3))\n",
        "print(operacion(a=2, c=3, b=9))"
      ],
      "execution_count": 27,
      "outputs": [
        {
          "output_type": "stream",
          "text": [
            "15\n",
            "10\n",
            "Hola Osvaldo, ¿Como estas?\n",
            "Error\n",
            "5.0\n",
            "5.0\n"
          ],
          "name": "stdout"
        }
      ]
    },
    {
      "cell_type": "code",
      "metadata": {
        "id": "foogVnaj-uE7",
        "outputId": "1d22e04a-4618-4136-e08b-1d27d2c556c6",
        "colab": {
          "base_uri": "https://localhost:8080/",
          "height": 187
        }
      },
      "source": [
        "#valores por defecto\n",
        "def comanda(primer, fuerte, postre=\"Galleta\"): \n",
        "  print(f\"De entrada pidio: {primer}\")\n",
        "  print(f\"De plato fuerte: {fuerte}\")\n",
        "  print(f\"Postre: {postre}\")\n",
        "\n",
        "# argumentos posicionales con tuplas *\n",
        "def comanda_2(*opciones):\n",
        "  print(opciones)\n",
        "  print(f\"De entrada pidio: {opciones[0]}\")\n",
        "  print(f\"De plato fuerte: {opciones[1]}\")\n",
        "  print(f\"Postre: {opciones[2]}\")\n",
        "\n",
        "comanda(\"Sopa aguada\", \"Tortas de papas\", \"Gelatina de uva\")\n",
        "comanda(\"Sopa de letras\", \"Tortas de papas\")\n",
        "\n",
        "comanda_2(\"Sopa aguada\", \"Tortas de papas\", \"Gelatina de uva\",\"Un rico guacamole\", \"Limon\")"
      ],
      "execution_count": 36,
      "outputs": [
        {
          "output_type": "stream",
          "text": [
            "De entrada pidio: Sopa aguada\n",
            "De plato fuerte: Tortas de papas\n",
            "Postre: Gelatina de uva\n",
            "De entrada pidio: Sopa de letras\n",
            "De plato fuerte: Tortas de papas\n",
            "Postre: Galleta\n",
            "('Sopa aguada', 'Tortas de papas', 'Gelatina de uva', 'Un rico guacamole', 'Limon')\n",
            "De entrada pidio: Sopa aguada\n",
            "De plato fuerte: Tortas de papas\n",
            "Postre: Gelatina de uva\n"
          ],
          "name": "stdout"
        }
      ]
    },
    {
      "cell_type": "code",
      "metadata": {
        "id": "0y_Azeh2CsRd",
        "outputId": "b99a6203-8df6-4f62-f0e4-972b88cc8fe0",
        "colab": {
          "base_uri": "https://localhost:8080/",
          "height": 136
        }
      },
      "source": [
        "def comanda_3(**opciones):\n",
        "  print(opciones)\n",
        "  for plt in opciones.items():\n",
        "    print(f\"{plt[0]} -> {plt[1]}\")\n",
        "comanda_3(primer=\"Sopa aguada\", fuerte=\"Tortas de papa\", postre=\"Gelatina de rompope\", extra1=\"Guacamole\", extra2=\"Un agua bien fria\", extra3=\"Limones\")"
      ],
      "execution_count": 42,
      "outputs": [
        {
          "output_type": "stream",
          "text": [
            "{'primer': 'Sopa aguada', 'fuerte': 'Tortas de papa', 'postre': 'Gelatina de rompope', 'extra1': 'Guacamole', 'extra2': 'Un agua bien fria', 'extra3': 'Limones'}\n",
            "primer -> Sopa aguada\n",
            "fuerte -> Tortas de papa\n",
            "postre -> Gelatina de rompope\n",
            "extra1 -> Guacamole\n",
            "extra2 -> Un agua bien fria\n",
            "extra3 -> Limones\n"
          ],
          "name": "stdout"
        }
      ]
    }
  ]
}